{
  "nbformat": 4,
  "nbformat_minor": 0,
  "metadata": {
    "colab": {
      "provenance": []
    },
    "kernelspec": {
      "name": "python3",
      "display_name": "Python 3"
    },
    "language_info": {
      "name": "python"
    }
  },
  "cells": [
    {
      "cell_type": "code",
      "source": [
        "from google.colab import drive\n",
        "drive.mount('/content/drive/')"
      ],
      "metadata": {
        "colab": {
          "base_uri": "https://localhost:8080/"
        },
        "id": "xzwlHUMN47AC",
        "outputId": "4b5056e0-fede-4465-a296-a89490cfe7df"
      },
      "execution_count": null,
      "outputs": [
        {
          "output_type": "stream",
          "name": "stdout",
          "text": [
            "Mounted at /content/drive/\n"
          ]
        }
      ]
    },
    {
      "cell_type": "code",
      "source": [
        "import os"
      ],
      "metadata": {
        "id": "kvsH28RS5SUA"
      },
      "execution_count": null,
      "outputs": []
    },
    {
      "cell_type": "code",
      "source": [
        "!ls"
      ],
      "metadata": {
        "colab": {
          "base_uri": "https://localhost:8080/"
        },
        "id": "JQEBeSF15UWM",
        "outputId": "793511e2-4516-41b9-a9d8-03fbdfa0e4e4"
      },
      "execution_count": null,
      "outputs": [
        {
          "output_type": "stream",
          "name": "stdout",
          "text": [
            "drive  sample_data\n"
          ]
        }
      ]
    },
    {
      "cell_type": "code",
      "source": [
        "#change this directory according to your setup\n",
        "os.chdir('/content/drive/MyDrive/Internships/Sparks-IOT-CV/Task3 - Social_Distancin_Detection')"
      ],
      "metadata": {
        "id": "lwfr8wBf5Xk5"
      },
      "execution_count": null,
      "outputs": []
    },
    {
      "cell_type": "code",
      "execution_count": null,
      "metadata": {
        "id": "oOLkpo-wzV9K"
      },
      "outputs": [],
      "source": [
        "from configs import config\n",
        "from configs.detection import detect_people\n",
        "from scipy.spatial import distance as dist\n",
        "import numpy as np\n",
        "import argparse\n",
        "import imutils\n",
        "import cv2"
      ]
    },
    {
      "cell_type": "code",
      "source": [
        "# construct the argument parser and parse the arguments\n",
        "ap = argparse.ArgumentParser()\n",
        "ap.add_argument(\"-i\", \"--video-path\", type=str, default=\"pedestrians.mp4\", help=\"path to (optional) input video file\")\n",
        "ap.add_argument(\"-o\", \"--video-output-path\", type=str, default=\"output.avi\", help=\"path to (optional) output video file\")\n",
        "ap.add_argument(\"-d\", \"--display\", type=int, default=1, help=\"whether or not output frame should be displayed\")\n",
        "args, unknown = ap.parse_known_args()"
      ],
      "metadata": {
        "id": "Kkek1Vfz6BL9"
      },
      "execution_count": null,
      "outputs": []
    },
    {
      "cell_type": "code",
      "source": [
        "# prompt: download yolo model weights to directory yolo\n",
        "\n",
        "!wget https://pjreddie.com/media/files/yolov3.weights -P yolo\n"
      ],
      "metadata": {
        "colab": {
          "base_uri": "https://localhost:8080/"
        },
        "id": "yKtHhmoLAo_l",
        "outputId": "f59c62b2-0410-41c5-dfab-7bb2a4246124"
      },
      "execution_count": null,
      "outputs": [
        {
          "output_type": "stream",
          "name": "stdout",
          "text": [
            "--2024-03-15 16:48:09--  https://pjreddie.com/media/files/yolov3.weights\n",
            "Resolving pjreddie.com (pjreddie.com)... 162.0.215.52\n",
            "Connecting to pjreddie.com (pjreddie.com)|162.0.215.52|:443... connected.\n",
            "HTTP request sent, awaiting response... 200 OK\n",
            "Length: 248007048 (237M) [application/octet-stream]\n",
            "Saving to: ‘yolo/yolov3.weights’\n",
            "\n",
            "yolov3.weights      100%[===================>] 236.52M  4.02MB/s    in 26s     \n",
            "\n",
            "2024-03-15 16:48:36 (9.10 MB/s) - ‘yolo/yolov3.weights’ saved [248007048/248007048]\n",
            "\n"
          ]
        }
      ]
    },
    {
      "cell_type": "code",
      "source": [],
      "metadata": {
        "id": "RrQ0dse2BDLX"
      },
      "execution_count": null,
      "outputs": []
    },
    {
      "cell_type": "code",
      "source": [
        "# load class labels\n",
        "labelsPath = os.path.sep.join([config.MODEL_PATH, \"model.names\"])\n",
        "LABELS = open(labelsPath).read().strip().split(\"\\n\")\n",
        "\n",
        "# get paths for YOLO weights and model configuration\n",
        "weightsPath = os.path.sep.join([config.MODEL_PATH, \"/content/drive/MyDrive/Internships/Sparks-IOT-CV/Task3-Social_Distancin_Detection/yolo/yolov3.weights\"])\n",
        "configPath = os.path.sep.join([config.MODEL_PATH, \"/content/drive/MyDrive/Internships/Sparks-IOT-CV/Task3-Social_Distancin_Detection/yolo/model.cfg\"])"
      ],
      "metadata": {
        "id": "xcW4NrhX6CrG"
      },
      "execution_count": null,
      "outputs": []
    },
    {
      "cell_type": "code",
      "source": [
        "!pip install darknet"
      ],
      "metadata": {
        "colab": {
          "base_uri": "https://localhost:8080/"
        },
        "id": "qKsZc1xBBvLc",
        "outputId": "924456a1-e4e8-46ec-fbc7-3d1957e5f659"
      },
      "execution_count": null,
      "outputs": [
        {
          "output_type": "stream",
          "name": "stdout",
          "text": [
            "Collecting darknet\n",
            "  Downloading darknet-0.3-py3-none-any.whl (4.6 kB)\n",
            "Installing collected packages: darknet\n",
            "Successfully installed darknet-0.3\n"
          ]
        }
      ]
    },
    {
      "cell_type": "code",
      "source": [
        "import darknet"
      ],
      "metadata": {
        "id": "MJpO3mYYBs-0"
      },
      "execution_count": null,
      "outputs": []
    },
    {
      "cell_type": "code",
      "source": [
        "configPath = \"/content/drive/MyDrive/Internships/Sparks-IOT-CV/Task3-Social_Distancin_Detection/yolo/model.cfg\"\n",
        "weightsPath = \"/content/drive/MyDrive/Internships/Sparks-IOT-CV/Task3-Social_Distancin_Detection/yolo/yolov3.weights\""
      ],
      "metadata": {
        "id": "k1-JCBrVB5qJ"
      },
      "execution_count": null,
      "outputs": []
    },
    {
      "cell_type": "code",
      "source": [
        "\n",
        "# load YOLO object detector\n",
        "print(\"[INFO] loading YOLO from disk...\")\n",
        "net = cv2.dnn.readNetFromDarknet(configPath, weightsPath)"
      ],
      "metadata": {
        "colab": {
          "base_uri": "https://localhost:8080/"
        },
        "id": "dGnFTyvj6RdU",
        "outputId": "044da176-a4ab-45b7-c22d-a21f810932dc"
      },
      "execution_count": null,
      "outputs": [
        {
          "output_type": "stream",
          "name": "stdout",
          "text": [
            "[INFO] loading YOLO from disk...\n"
          ]
        }
      ]
    },
    {
      "cell_type": "code",
      "source": [
        "# check GPU (true/false)\n",
        "if config.USE_GPU:\n",
        "    # set CUDA s the preferable backend and target\n",
        "    print(\"[INFO] setting preferable backend and target to CUDA...\")\n",
        "    net.setPreferableBackend(cv2.dnn.DNN_BACKEND_CUDA)\n",
        "    net.setPreferableTarget(cv2.dnn.DNN_TARGET_CUDA)"
      ],
      "metadata": {
        "id": "o99JDvRqCOW0"
      },
      "execution_count": null,
      "outputs": []
    },
    {
      "cell_type": "code",
      "source": [
        "unconnected_layers = net.getUnconnectedOutLayers()\n",
        "print(unconnected_layers)"
      ],
      "metadata": {
        "colab": {
          "base_uri": "https://localhost:8080/"
        },
        "id": "_a-BwAvkCmPW",
        "outputId": "b9bd6121-9915-4a04-c7f3-caa146babbfc"
      },
      "execution_count": null,
      "outputs": [
        {
          "output_type": "stream",
          "name": "stdout",
          "text": [
            "[200 227 254]\n"
          ]
        }
      ]
    },
    {
      "cell_type": "code",
      "source": [
        "print(type(unconnected_layers))"
      ],
      "metadata": {
        "colab": {
          "base_uri": "https://localhost:8080/"
        },
        "id": "SOzup1-bCotT",
        "outputId": "1dd89e07-e6df-48db-cd7a-bbd24f216c9e"
      },
      "execution_count": null,
      "outputs": [
        {
          "output_type": "stream",
          "name": "stdout",
          "text": [
            "<class 'numpy.ndarray'>\n"
          ]
        }
      ]
    },
    {
      "cell_type": "code",
      "source": [
        "print(len(net.getUnconnectedOutLayers()))"
      ],
      "metadata": {
        "colab": {
          "base_uri": "https://localhost:8080/"
        },
        "id": "0Pq2jSOODB1w",
        "outputId": "2853caac-9806-4294-b809-366493f2b01e"
      },
      "execution_count": null,
      "outputs": [
        {
          "output_type": "stream",
          "name": "stdout",
          "text": [
            "3\n"
          ]
        }
      ]
    },
    {
      "cell_type": "code",
      "source": [
        "if len(net.getUnconnectedOutLayers()) > 0:\n",
        "    ln = [ln[i] for i in net.getUnconnectedOutLayers()]\n",
        "else:\n",
        "    # Handle the case where there are no unconnected output layers\n",
        "    # (e.g., the network has been modified)\n",
        "    print(\"No unconnected output layers found.\")"
      ],
      "metadata": {
        "colab": {
          "base_uri": "https://localhost:8080/",
          "height": 367
        },
        "id": "ZKyCj15WC-Hk",
        "outputId": "e0b51414-1ecb-4ba8-9c48-d9bab898d0c3"
      },
      "execution_count": null,
      "outputs": [
        {
          "output_type": "error",
          "ename": "IndexError",
          "evalue": "tuple index out of range",
          "traceback": [
            "\u001b[0;31m---------------------------------------------------------------------------\u001b[0m",
            "\u001b[0;31mIndexError\u001b[0m                                Traceback (most recent call last)",
            "\u001b[0;32m<ipython-input-50-e5f1bdf985af>\u001b[0m in \u001b[0;36m<cell line: 1>\u001b[0;34m()\u001b[0m\n\u001b[1;32m      1\u001b[0m \u001b[0;32mif\u001b[0m \u001b[0mlen\u001b[0m\u001b[0;34m(\u001b[0m\u001b[0mnet\u001b[0m\u001b[0;34m.\u001b[0m\u001b[0mgetUnconnectedOutLayers\u001b[0m\u001b[0;34m(\u001b[0m\u001b[0;34m)\u001b[0m\u001b[0;34m)\u001b[0m \u001b[0;34m>\u001b[0m \u001b[0;36m0\u001b[0m\u001b[0;34m:\u001b[0m\u001b[0;34m\u001b[0m\u001b[0;34m\u001b[0m\u001b[0m\n\u001b[0;32m----> 2\u001b[0;31m     \u001b[0mln\u001b[0m \u001b[0;34m=\u001b[0m \u001b[0;34m[\u001b[0m\u001b[0mln\u001b[0m\u001b[0;34m[\u001b[0m\u001b[0mi\u001b[0m\u001b[0;34m]\u001b[0m \u001b[0;32mfor\u001b[0m \u001b[0mi\u001b[0m \u001b[0;32min\u001b[0m \u001b[0mnet\u001b[0m\u001b[0;34m.\u001b[0m\u001b[0mgetUnconnectedOutLayers\u001b[0m\u001b[0;34m(\u001b[0m\u001b[0;34m)\u001b[0m\u001b[0;34m]\u001b[0m\u001b[0;34m\u001b[0m\u001b[0;34m\u001b[0m\u001b[0m\n\u001b[0m\u001b[1;32m      3\u001b[0m \u001b[0;32melse\u001b[0m\u001b[0;34m:\u001b[0m\u001b[0;34m\u001b[0m\u001b[0;34m\u001b[0m\u001b[0m\n\u001b[1;32m      4\u001b[0m     \u001b[0;31m# Handle the case where there are no unconnected output layers\u001b[0m\u001b[0;34m\u001b[0m\u001b[0;34m\u001b[0m\u001b[0m\n\u001b[1;32m      5\u001b[0m     \u001b[0;31m# (e.g., the network has been modified)\u001b[0m\u001b[0;34m\u001b[0m\u001b[0;34m\u001b[0m\u001b[0m\n",
            "\u001b[0;32m<ipython-input-50-e5f1bdf985af>\u001b[0m in \u001b[0;36m<listcomp>\u001b[0;34m(.0)\u001b[0m\n\u001b[1;32m      1\u001b[0m \u001b[0;32mif\u001b[0m \u001b[0mlen\u001b[0m\u001b[0;34m(\u001b[0m\u001b[0mnet\u001b[0m\u001b[0;34m.\u001b[0m\u001b[0mgetUnconnectedOutLayers\u001b[0m\u001b[0;34m(\u001b[0m\u001b[0;34m)\u001b[0m\u001b[0;34m)\u001b[0m \u001b[0;34m>\u001b[0m \u001b[0;36m0\u001b[0m\u001b[0;34m:\u001b[0m\u001b[0;34m\u001b[0m\u001b[0;34m\u001b[0m\u001b[0m\n\u001b[0;32m----> 2\u001b[0;31m     \u001b[0mln\u001b[0m \u001b[0;34m=\u001b[0m \u001b[0;34m[\u001b[0m\u001b[0mln\u001b[0m\u001b[0;34m[\u001b[0m\u001b[0mi\u001b[0m\u001b[0;34m]\u001b[0m \u001b[0;32mfor\u001b[0m \u001b[0mi\u001b[0m \u001b[0;32min\u001b[0m \u001b[0mnet\u001b[0m\u001b[0;34m.\u001b[0m\u001b[0mgetUnconnectedOutLayers\u001b[0m\u001b[0;34m(\u001b[0m\u001b[0;34m)\u001b[0m\u001b[0;34m]\u001b[0m\u001b[0;34m\u001b[0m\u001b[0;34m\u001b[0m\u001b[0m\n\u001b[0m\u001b[1;32m      3\u001b[0m \u001b[0;32melse\u001b[0m\u001b[0;34m:\u001b[0m\u001b[0;34m\u001b[0m\u001b[0;34m\u001b[0m\u001b[0m\n\u001b[1;32m      4\u001b[0m     \u001b[0;31m# Handle the case where there are no unconnected output layers\u001b[0m\u001b[0;34m\u001b[0m\u001b[0;34m\u001b[0m\u001b[0m\n\u001b[1;32m      5\u001b[0m     \u001b[0;31m# (e.g., the network has been modified)\u001b[0m\u001b[0;34m\u001b[0m\u001b[0;34m\u001b[0m\u001b[0m\n",
            "\u001b[0;31mIndexError\u001b[0m: tuple index out of range"
          ]
        }
      ]
    },
    {
      "cell_type": "code",
      "source": [
        "if len(net.getUnconnectedOutLayers()) > 0:\n",
        "    ln = [net[i] for i in net.getUnconnectedOutLayers()]\n",
        "else:\n",
        "    # Handle the case where there are no unconnected output layers\n",
        "    # (e.g., the network has been modified)\n",
        "    print(\"No unconnected output layers found.\")"
      ],
      "metadata": {
        "colab": {
          "base_uri": "https://localhost:8080/",
          "height": 367
        },
        "id": "qCKA_o4GCQkO",
        "outputId": "b68866a6-a3ab-4cd4-cb4e-dab483b8a264"
      },
      "execution_count": null,
      "outputs": [
        {
          "output_type": "error",
          "ename": "TypeError",
          "evalue": "'cv2.dnn.Net' object is not subscriptable",
          "traceback": [
            "\u001b[0;31m---------------------------------------------------------------------------\u001b[0m",
            "\u001b[0;31mTypeError\u001b[0m                                 Traceback (most recent call last)",
            "\u001b[0;32m<ipython-input-51-ec6f4193bbcb>\u001b[0m in \u001b[0;36m<cell line: 1>\u001b[0;34m()\u001b[0m\n\u001b[1;32m      1\u001b[0m \u001b[0;32mif\u001b[0m \u001b[0mlen\u001b[0m\u001b[0;34m(\u001b[0m\u001b[0mnet\u001b[0m\u001b[0;34m.\u001b[0m\u001b[0mgetUnconnectedOutLayers\u001b[0m\u001b[0;34m(\u001b[0m\u001b[0;34m)\u001b[0m\u001b[0;34m)\u001b[0m \u001b[0;34m>\u001b[0m \u001b[0;36m0\u001b[0m\u001b[0;34m:\u001b[0m\u001b[0;34m\u001b[0m\u001b[0;34m\u001b[0m\u001b[0m\n\u001b[0;32m----> 2\u001b[0;31m     \u001b[0mln\u001b[0m \u001b[0;34m=\u001b[0m \u001b[0;34m[\u001b[0m\u001b[0mnet\u001b[0m\u001b[0;34m[\u001b[0m\u001b[0mi\u001b[0m\u001b[0;34m]\u001b[0m \u001b[0;32mfor\u001b[0m \u001b[0mi\u001b[0m \u001b[0;32min\u001b[0m \u001b[0mnet\u001b[0m\u001b[0;34m.\u001b[0m\u001b[0mgetUnconnectedOutLayers\u001b[0m\u001b[0;34m(\u001b[0m\u001b[0;34m)\u001b[0m\u001b[0;34m]\u001b[0m\u001b[0;34m\u001b[0m\u001b[0;34m\u001b[0m\u001b[0m\n\u001b[0m\u001b[1;32m      3\u001b[0m \u001b[0;32melse\u001b[0m\u001b[0;34m:\u001b[0m\u001b[0;34m\u001b[0m\u001b[0;34m\u001b[0m\u001b[0m\n\u001b[1;32m      4\u001b[0m     \u001b[0;31m# Handle the case where there are no unconnected output layers\u001b[0m\u001b[0;34m\u001b[0m\u001b[0;34m\u001b[0m\u001b[0m\n\u001b[1;32m      5\u001b[0m     \u001b[0;31m# (e.g., the network has been modified)\u001b[0m\u001b[0;34m\u001b[0m\u001b[0;34m\u001b[0m\u001b[0m\n",
            "\u001b[0;32m<ipython-input-51-ec6f4193bbcb>\u001b[0m in \u001b[0;36m<listcomp>\u001b[0;34m(.0)\u001b[0m\n\u001b[1;32m      1\u001b[0m \u001b[0;32mif\u001b[0m \u001b[0mlen\u001b[0m\u001b[0;34m(\u001b[0m\u001b[0mnet\u001b[0m\u001b[0;34m.\u001b[0m\u001b[0mgetUnconnectedOutLayers\u001b[0m\u001b[0;34m(\u001b[0m\u001b[0;34m)\u001b[0m\u001b[0;34m)\u001b[0m \u001b[0;34m>\u001b[0m \u001b[0;36m0\u001b[0m\u001b[0;34m:\u001b[0m\u001b[0;34m\u001b[0m\u001b[0;34m\u001b[0m\u001b[0m\n\u001b[0;32m----> 2\u001b[0;31m     \u001b[0mln\u001b[0m \u001b[0;34m=\u001b[0m \u001b[0;34m[\u001b[0m\u001b[0mnet\u001b[0m\u001b[0;34m[\u001b[0m\u001b[0mi\u001b[0m\u001b[0;34m]\u001b[0m \u001b[0;32mfor\u001b[0m \u001b[0mi\u001b[0m \u001b[0;32min\u001b[0m \u001b[0mnet\u001b[0m\u001b[0;34m.\u001b[0m\u001b[0mgetUnconnectedOutLayers\u001b[0m\u001b[0;34m(\u001b[0m\u001b[0;34m)\u001b[0m\u001b[0;34m]\u001b[0m\u001b[0;34m\u001b[0m\u001b[0;34m\u001b[0m\u001b[0m\n\u001b[0m\u001b[1;32m      3\u001b[0m \u001b[0;32melse\u001b[0m\u001b[0;34m:\u001b[0m\u001b[0;34m\u001b[0m\u001b[0;34m\u001b[0m\u001b[0m\n\u001b[1;32m      4\u001b[0m     \u001b[0;31m# Handle the case where there are no unconnected output layers\u001b[0m\u001b[0;34m\u001b[0m\u001b[0;34m\u001b[0m\u001b[0m\n\u001b[1;32m      5\u001b[0m     \u001b[0;31m# (e.g., the network has been modified)\u001b[0m\u001b[0;34m\u001b[0m\u001b[0;34m\u001b[0m\u001b[0m\n",
            "\u001b[0;31mTypeError\u001b[0m: 'cv2.dnn.Net' object is not subscriptable"
          ]
        }
      ]
    },
    {
      "cell_type": "code",
      "source": [
        "if args.video_path:\n",
        "# initialize the video stream and pointer to output video file\n",
        "    print(\"[INFO] accessing video stream...\")\n",
        "# open input video if available else webcam stream\n",
        "    vs = cv2.VideoCapture(args.video_path if args.video_path else 0)\n",
        "    writer = None\n",
        "\n",
        "    # loop over the frames from the video stream\n",
        "    while True:\n",
        "        # read the next frame from the input video\n",
        "        (grabbed, frame) = vs.read()\n",
        "\n",
        "        # if the frame was not grabbed, then that's the end fo the stream\n",
        "        if not grabbed:\n",
        "            break\n",
        "\n",
        "        # resize the frame and then detect people (only people) in it\n",
        "        frame = imutils.resize(frame, width=700)\n",
        "        results = detect_people(frame, net, ln, personIdx=LABELS.index(\"person\"))\n",
        "\n",
        "        # initialize the set of indexes that violate the minimum social distance\n",
        "        violate = set()\n",
        "\n",
        "        # ensure there are at least two people detections (required in order to compute the\n",
        "        # the pairwise distance maps)\n",
        "        if len(results) >= 2:\n",
        "            # extract all centroids from the results and compute the Euclidean distances\n",
        "            # between all pairs of the centroids\n",
        "            centroids = np.array([r[2] for r in results])\n",
        "            D = dist.cdist(centroids, centroids, metric=\"euclidean\")\n",
        "\n",
        "            # loop over the upper triangular of the distance matrix\n",
        "            for i in range(0, D.shape[0]):\n",
        "                for j in range(i+1, D.shape[1]):\n",
        "                    # check to see if the distance between any two centroid pairs is less\n",
        "                    # than the configured number of pixels\n",
        "                    if D[i, j] < config.MIN_DISTANCE:\n",
        "                        # update the violation set with the indexes of the centroid pairs\n",
        "                        violate.add(i)\n",
        "                        violate.add(j)\n",
        "\n",
        "        # loop over the results\n",
        "        for (i, (prob, bbox, centroid)) in enumerate(results):\n",
        "            # extract teh bounding box and centroid coordinates, then initialize the color of the annotation\n",
        "            (startX, startY, endX, endY) = bbox\n",
        "            (cX, cY) = centroid\n",
        "            color = (0, 255, 0)\n",
        "\n",
        "            # if the index pair exists within the violation set, then update the color\n",
        "            if i in violate:\n",
        "                color = (0, 0, 255)\n",
        "\n",
        "            # draw (1) a bounding box around the person and (2) the centroid coordinates of the person\n",
        "            cv2.rectangle(frame, (startX, startY), (endX, endY), color, 2)\n",
        "            cv2.circle(frame, (cX, cY), 5, color, 1)\n",
        "\n",
        "        # draw the total number of social distancing violations on the output frame\n",
        "        text = \"Social Distancing Violations: {}\".format(len(violate))\n",
        "        cv2.putText(frame, text, (10, frame.shape[0] - 25), cv2.FONT_HERSHEY_SIMPLEX, 0.8, (0, 0, 255), 3)\n",
        "\n",
        "        # check to see if the output frame should be displayed to the screen\n",
        "        if args.display > 0:\n",
        "            # show the output frame\n",
        "            cv2.imshow(\"Output\", frame)\n",
        "            key = cv2.waitKey(1) & 0xFF\n",
        "\n",
        "            # if the 'q' key is pressed, break from the loop\n",
        "            if key == ord(\"q\"):\n",
        "                break\n",
        "        # if  the video writer has not been  as none\n",
        "        if writer is None:\n",
        "            # initialize the video writer\n",
        "            fourcc = cv2.VideoWriter_fourcc(*\"MJPG\")\n",
        "            writer = cv2.VideoWriter(args.video_output_path, fourcc, 25, (frame.shape[1], frame.shape[0]), True)\n",
        "\n",
        "        # if the video writer is not None, write the frame to the output video file\n",
        "        if writer is not None:\n",
        "            print(\"[INFO] writing stream to output\")\n",
        "            writer.write(frame)"
      ],
      "metadata": {
        "colab": {
          "base_uri": "https://localhost:8080/"
        },
        "id": "vmrx-6ATDjF9",
        "outputId": "03e6ede9-d5a1-4a31-a481-6d0cee8f54ef"
      },
      "execution_count": null,
      "outputs": [
        {
          "output_type": "stream",
          "name": "stdout",
          "text": [
            "[INFO] accessing video stream...\n"
          ]
        }
      ]
    }
  ]
}